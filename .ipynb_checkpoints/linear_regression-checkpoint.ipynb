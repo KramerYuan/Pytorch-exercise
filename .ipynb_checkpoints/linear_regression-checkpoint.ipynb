{
 "cells": [
  {
   "cell_type": "code",
   "execution_count": 1,
   "metadata": {},
   "outputs": [],
   "source": [
    "import torch\n",
    "import torch.nn as nn \n",
    "import numpy as np\n",
    "import matplotlib.pyplot as plt"
   ]
  },
  {
   "cell_type": "code",
   "execution_count": 2,
   "metadata": {},
   "outputs": [],
   "source": [
    "# Hyper-parameters 超参数\n",
    "input_size = 1\n",
    "output_size = 1\n",
    "num_epochs = 60\n",
    "learning_rate = 0.001"
   ]
  },
  {
   "cell_type": "code",
   "execution_count": 3,
   "metadata": {},
   "outputs": [],
   "source": [
    "# 数据准备\n",
    "x_train = np.array([[3.3], [4.4], [5.5], [6.71], [6.93], [4.168], \n",
    "                    [9.779], [6.182], [7.59], [2.167], [7.042], \n",
    "                    [10.791], [5.313], [7.997], [3.1]], dtype=np.float32)\n",
    "\n",
    "y_train = np.array([[1.7], [2.76], [2.09], [3.19], [1.694], [1.573], \n",
    "                    [3.366], [2.596], [2.53], [1.221], [2.827], \n",
    "                    [3.465], [1.65], [2.904], [1.3]], dtype=np.float32)"
   ]
  },
  {
   "cell_type": "code",
   "execution_count": 4,
   "metadata": {},
   "outputs": [],
   "source": [
    "# gpu上运算，传入参数和模型参数都需要是cuda()\n",
    "model = nn.Linear(input_size, output_size).cuda()"
   ]
  },
  {
   "cell_type": "code",
   "execution_count": 5,
   "metadata": {},
   "outputs": [],
   "source": [
    "# 定义损失和优化\n",
    "criterion = nn.MSELoss()\n",
    "optimizer = torch.optim.SGD(model.parameters(), lr=learning_rate)"
   ]
  },
  {
   "cell_type": "code",
   "execution_count": 6,
   "metadata": {},
   "outputs": [
    {
     "name": "stdout",
     "output_type": "stream",
     "text": [
      "Epoch [5/60], Loss: 39.1053\n",
      "Epoch [10/60], Loss: 16.1195\n",
      "Epoch [15/60], Loss: 6.8071\n",
      "Epoch [20/60], Loss: 3.0340\n",
      "Epoch [25/60], Loss: 1.5051\n",
      "Epoch [30/60], Loss: 0.8852\n",
      "Epoch [35/60], Loss: 0.6336\n",
      "Epoch [40/60], Loss: 0.5313\n",
      "Epoch [45/60], Loss: 0.4894\n",
      "Epoch [50/60], Loss: 0.4719\n",
      "Epoch [55/60], Loss: 0.4644\n",
      "Epoch [60/60], Loss: 0.4609\n"
     ]
    }
   ],
   "source": [
    "for epoch in range(num_epochs): # 60\n",
    "    inputs = torch.from_numpy(x_train).cuda()\n",
    "    labels = torch.from_numpy(y_train).cuda()\n",
    "    \n",
    "    outputs = model(inputs)\n",
    "    loss = criterion(outputs, labels)\n",
    "    \n",
    "    optimizer.zero_grad()\n",
    "    loss.backward()\n",
    "    optimizer.step()\n",
    "    \n",
    "    if (epoch+1) % 5 == 0:\n",
    "        print ('Epoch [{}/{}], Loss: {:.4f}'.format(epoch+1, num_epochs, loss.item()))"
   ]
  },
  {
   "cell_type": "code",
   "execution_count": 7,
   "metadata": {},
   "outputs": [
    {
     "data": {
      "image/png": "[encoded data removed]",
      "text/plain": [
       "<Figure size 432x288 with 1 Axes>"
      ]
     },
     "metadata": {
      "needs_background": "light"
     },
     "output_type": "display_data"
    }
   ],
   "source": [
    "# 传入参数使用gpu，转换成numpy时换回cpu\n",
    "predicted = model(torch.from_numpy(x_train).cuda()).detach().cpu().numpy()\n",
    "plt.plot(x_train, y_train, 'ro', label='Original data')\n",
    "plt.plot(x_train, predicted, label='Fitted line')\n",
    "plt.legend()\n",
    "plt.show()"
   ]
  },
  {
   "cell_type": "code",
   "execution_count": 8,
   "metadata": {},
   "outputs": [],
   "source": [
    "import pandas as pd\n",
    "data = pd.read_csv(\"./watermelon3.0α.txt\")"
   ]
  },
  {
   "cell_type": "code",
   "execution_count": 9,
   "metadata": {},
   "outputs": [],
   "source": [
    "# 将标签进行编码\n",
    "data[\"好瓜\"] = data[\"好瓜\"].apply(lambda x: 1 if x==\"是\" else 0)\n",
    "\n",
    "data = data.values\n",
    "\n",
    "# x.shape=(17*2)\n",
    "x = data[:, 1:3]\n",
    "\n",
    "# y.shape=(17*1)\n",
    "y = data[:, 3]\n",
    "\n",
    "x = x.astype(\"float32\")\n",
    "y = y.astype(\"float32\")\n",
    "y = y.reshape(1,-1).T"
   ]
  },
  {
   "cell_type": "code",
   "execution_count": 10,
   "metadata": {},
   "outputs": [],
   "source": [
    "# from sklearn import model_selection\n",
    "# x_train, x_test, y_train, y_test = model_selection.train_test_split(x, y, test_size=0.5, random_state=1108)\n",
    "# x_train = x_train.astype(\"float32\")\n",
    "# x_test = x_test.astype(\"float32\")\n",
    "# y_train = y_train.astype(\"float32\")\n",
    "# y_test = y_test.astype(\"float32\")"
   ]
  },
  {
   "cell_type": "code",
   "execution_count": 11,
   "metadata": {},
   "outputs": [],
   "source": [
    "model_watermelon = nn.Linear(2, 1).cuda()"
   ]
  },
  {
   "cell_type": "code",
   "execution_count": 12,
   "metadata": {},
   "outputs": [],
   "source": [
    "# 定义损失和优化\n",
    "criterion = nn.MSELoss()\n",
    "optimizer = torch.optim.SGD(model.parameters(), lr=0.001)"
   ]
  },
  {
   "cell_type": "code",
   "execution_count": 13,
   "metadata": {},
   "outputs": [],
   "source": [
    "inputs = torch.from_numpy(x).cuda()\n",
    "labels = torch.from_numpy(y).cuda()"
   ]
  },
  {
   "cell_type": "code",
   "execution_count": 14,
   "metadata": {},
   "outputs": [
    {
     "name": "stdout",
     "output_type": "stream",
     "text": [
      "Epoch [5/60], Loss: 1.1488\n",
      "Epoch [10/60], Loss: 1.1488\n",
      "Epoch [15/60], Loss: 1.1488\n",
      "Epoch [20/60], Loss: 1.1488\n",
      "Epoch [25/60], Loss: 1.1488\n",
      "Epoch [30/60], Loss: 1.1488\n",
      "Epoch [35/60], Loss: 1.1488\n",
      "Epoch [40/60], Loss: 1.1488\n",
      "Epoch [45/60], Loss: 1.1488\n",
      "Epoch [50/60], Loss: 1.1488\n",
      "Epoch [55/60], Loss: 1.1488\n",
      "Epoch [60/60], Loss: 1.1488\n"
     ]
    }
   ],
   "source": [
    "for epoch in range(num_epochs): # 60\n",
    "    inputs = torch.from_numpy(x).cuda()\n",
    "    labels = torch.from_numpy(y).cuda()\n",
    "    \n",
    "    outputs = model_watermelon(inputs)\n",
    "    loss = criterion(outputs, labels)\n",
    "    \n",
    "    optimizer.zero_grad()\n",
    "    loss.backward()\n",
    "    optimizer.step()\n",
    "    \n",
    "    if (epoch+1) % 5 == 0:\n",
    "        print ('Epoch [{}/{}], Loss: {:.4f}'.format(epoch+1, num_epochs, loss.item()))\n",
    "        "
   ]
  },
  {
   "cell_type": "code",
   "execution_count": 15,
   "metadata": {},
   "outputs": [],
   "source": [
    "predicted = model_watermelon(torch.from_numpy(x).cuda()).detach().cpu().numpy()"
   ]
  },
  {
   "cell_type": "code",
   "execution_count": 16,
   "metadata": {},
   "outputs": [
    {
     "data": {
      "text/plain": [
       "array([[-0.48137856],\n",
       "       [-0.41719866],\n",
       "       [-0.44367272],\n",
       "       [-0.47408053],\n",
       "       [-0.4629892 ],\n",
       "       [-0.54113185],\n",
       "       [-0.47512698],\n",
       "       [-0.5165723 ],\n",
       "       [-0.36994043],\n",
       "       [-0.62523293],\n",
       "       [-0.5527433 ],\n",
       "       [-0.52180666],\n",
       "       [-0.40626258],\n",
       "       [-0.41056067],\n",
       "       [-0.60631156],\n",
       "       [-0.3869482 ],\n",
       "       [-0.34955803]], dtype=float32)"
      ]
     },
     "execution_count": 16,
     "metadata": {},
     "output_type": "execute_result"
    }
   ],
   "source": [
    "predicted"
   ]
  },
  {
   "cell_type": "code",
   "execution_count": null,
   "metadata": {},
   "outputs": [],
   "source": []
  }
 ],
 "metadata": {
  "kernelspec": {
   "display_name": "Python 3",
   "language": "python",
   "name": "python3"
  },
  "language_info": {
   "codemirror_mode": {
    "name": "ipython",
    "version": 3
   },
   "file_extension": ".py",
   "mimetype": "text/x-python",
   "name": "python",
   "nbconvert_exporter": "python",
   "pygments_lexer": "ipython3",
   "version": "3.7.6"
  }
 },
 "nbformat": 4,
 "nbformat_minor": 4
}

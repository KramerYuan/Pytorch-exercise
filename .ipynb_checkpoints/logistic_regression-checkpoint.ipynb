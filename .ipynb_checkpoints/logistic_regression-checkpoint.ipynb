{
 "cells": [
  {
   "cell_type": "code",
   "execution_count": 1,
   "metadata": {},
   "outputs": [],
   "source": [
    "import torch\n",
    "import torch.nn as nn\n",
    "import torchvision\n",
    "import torchvision.transforms as transforms"
   ]
  },
  {
   "cell_type": "code",
   "execution_count": 2,
   "metadata": {},
   "outputs": [],
   "source": [
    "# Hyper-parameters  超参数\n",
    "input_size = 28 * 28    # 784\n",
    "num_classes = 10\n",
    "num_epochs = 5\n",
    "batch_size = 100\n",
    "learning_rate = 0.001"
   ]
  },
  {
   "cell_type": "code",
   "execution_count": 4,
   "metadata": {},
   "outputs": [
    {
     "name": "stdout",
     "output_type": "stream",
     "text": [
      "Epoch [1/5], Step [100/600], Loss: 2.2171\n",
      "Epoch [1/5], Step [200/600], Loss: 2.1388\n",
      "Epoch [1/5], Step [300/600], Loss: 2.0037\n",
      "Epoch [1/5], Step [400/600], Loss: 1.9742\n",
      "Epoch [1/5], Step [500/600], Loss: 1.8811\n",
      "Epoch [1/5], Step [600/600], Loss: 1.8477\n",
      "Epoch [2/5], Step [100/600], Loss: 1.7536\n",
      "Epoch [2/5], Step [200/600], Loss: 1.7520\n",
      "Epoch [2/5], Step [300/600], Loss: 1.7104\n",
      "Epoch [2/5], Step [400/600], Loss: 1.5600\n",
      "Epoch [2/5], Step [500/600], Loss: 1.5948\n",
      "Epoch [2/5], Step [600/600], Loss: 1.4941\n",
      "Epoch [3/5], Step [100/600], Loss: 1.3950\n",
      "Epoch [3/5], Step [200/600], Loss: 1.3335\n",
      "Epoch [3/5], Step [300/600], Loss: 1.3270\n",
      "Epoch [3/5], Step [400/600], Loss: 1.2970\n",
      "Epoch [3/5], Step [500/600], Loss: 1.3570\n",
      "Epoch [3/5], Step [600/600], Loss: 1.2665\n",
      "Epoch [4/5], Step [100/600], Loss: 1.1920\n",
      "Epoch [4/5], Step [200/600], Loss: 1.1655\n",
      "Epoch [4/5], Step [300/600], Loss: 1.1946\n",
      "Epoch [4/5], Step [400/600], Loss: 1.2261\n",
      "Epoch [4/5], Step [500/600], Loss: 1.1797\n",
      "Epoch [4/5], Step [600/600], Loss: 1.1432\n",
      "Epoch [5/5], Step [100/600], Loss: 1.1151\n",
      "Epoch [5/5], Step [200/600], Loss: 1.1475\n",
      "Epoch [5/5], Step [300/600], Loss: 1.1296\n",
      "Epoch [5/5], Step [400/600], Loss: 0.9037\n",
      "Epoch [5/5], Step [500/600], Loss: 1.0478\n",
      "Epoch [5/5], Step [600/600], Loss: 0.9879\n"
     ]
    }
   ],
   "source": [
    "train_dataset = torchvision.datasets.MNIST(root=\"./data\",\n",
    "                                          train=True,\n",
    "                                          transform=transforms.ToTensor(),\n",
    "                                          download=True)\n",
    "\n",
    "test_dataset = torchvision.datasets.MNIST(root=\"./data\",\n",
    "                                   train=True,\n",
    "                                   transform=transforms.ToTensor())\n",
    "\n",
    "train_loader = torch.utils.data.DataLoader(dataset=train_dataset,\n",
    "                                          batch_size=batch_size,\n",
    "                                          shuffle=True)\n",
    "\n",
    "test_loader = torch.utils.data.DataLoader(dataset=test_dataset,\n",
    "                                         batch_size=batch_size,\n",
    "                                         shuffle=False)\n",
    "\n",
    "model = nn.Linear(input_size, num_classes)\n",
    "\n",
    "criterion = nn.CrossEntropyLoss()\n",
    "optimizer = torch.optim.SGD(model.parameters(), lr=learning_rate)\n",
    "\n",
    "total_step = len(train_loader)\n",
    "for epoch in range(num_epochs):\n",
    "    for i, (images, labels) in enumerate(train_loader):\n",
    "        # Reshape images to (batch_size, input_size)\n",
    "        images = images.reshape(-1, input_size)\n",
    "        \n",
    "        outputs = model(images)\n",
    "        loss = criterion(outputs, labels)\n",
    "        \n",
    "        optimizer.zero_grad()\n",
    "        loss.backward()\n",
    "        optimizer.step()\n",
    "        \n",
    "        if (i+1) % 100 == 0:\n",
    "            print ('Epoch [{}/{}], Step [{}/{}], Loss: {:.4f}' \n",
    "                   .format(epoch+1, num_epochs, i+1, total_step, loss.item()))\n",
    "        "
   ]
  },
  {
   "cell_type": "code",
   "execution_count": 5,
   "metadata": {},
   "outputs": [
    {
     "name": "stdout",
     "output_type": "stream",
     "text": [
      "Accuracy of the model on the 10000 test images: 81 %\n"
     ]
    },
    {
     "name": "stderr",
     "output_type": "stream",
     "text": [
      "..\\aten\\src\\ATen\\native\\BinaryOps.cpp:81: UserWarning: Integer division of tensors using div or / is deprecated, and in a future release div will perform true division as in Python 3. Use true_divide or floor_divide (// in Python) instead.\n"
     ]
    }
   ],
   "source": [
    "correct = 0 # 用于记录正确的个数\n",
    "total = 0 # 记录总的个数\n",
    "for images, labels in test_loader:\n",
    "    images = images.reshape(-1,input_size)\n",
    "    outputs = model(images)\n",
    "    _, predicted = torch.max(outputs.data, 1)\n",
    "    total += labels.size(0)\n",
    "    correct += (predicted == labels).sum()\n",
    "    \n",
    "print('Accuracy of the model on the 10000 test images: {} %'.format(100 * correct / total))"
   ]
  },
  {
   "cell_type": "code",
   "execution_count": null,
   "metadata": {},
   "outputs": [],
   "source": []
  }
 ],
 "metadata": {
  "kernelspec": {
   "display_name": "Python 3",
   "language": "python",
   "name": "python3"
  },
  "language_info": {
   "codemirror_mode": {
    "name": "ipython",
    "version": 3
   },
   "file_extension": ".py",
   "mimetype": "text/x-python",
   "name": "python",
   "nbconvert_exporter": "python",
   "pygments_lexer": "ipython3",
   "version": "3.7.6"
  }
 },
 "nbformat": 4,
 "nbformat_minor": 4
}
